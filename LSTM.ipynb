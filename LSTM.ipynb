{
 "cells": [
  {
   "cell_type": "markdown",
   "id": "3c6e41fb",
   "metadata": {},
   "source": [
    "Demo of Recurrent Neural Network using Keras"
   ]
  },
  {
   "cell_type": "code",
   "execution_count": 1,
   "id": "992144fe",
   "metadata": {},
   "outputs": [],
   "source": [
    "import pandas as pd\n",
    "import numpy as np\n",
    "import matplotlib.pyplot as plt\n",
    "from sklearn.model_selection import train_test_split\n",
    "from sklearn.preprocessing import MinMaxScaler\n",
    "from keras.models import Sequential, load_model\n",
    "from keras.layers import LSTM, Dense, Dropout"
   ]
  },
  {
   "cell_type": "markdown",
   "id": "a7b747e7",
   "metadata": {},
   "source": [
    "Download Tesla stock data"
   ]
  },
  {
   "cell_type": "code",
   "execution_count": 2,
   "id": "a14b560e",
   "metadata": {},
   "outputs": [
    {
     "data": {
      "text/html": [
       "<div>\n",
       "<style scoped>\n",
       "    .dataframe tbody tr th:only-of-type {\n",
       "        vertical-align: middle;\n",
       "    }\n",
       "\n",
       "    .dataframe tbody tr th {\n",
       "        vertical-align: top;\n",
       "    }\n",
       "\n",
       "    .dataframe thead th {\n",
       "        text-align: right;\n",
       "    }\n",
       "</style>\n",
       "<table border=\"1\" class=\"dataframe\">\n",
       "  <thead>\n",
       "    <tr style=\"text-align: right;\">\n",
       "      <th></th>\n",
       "      <th>Date</th>\n",
       "      <th>Open</th>\n",
       "      <th>High</th>\n",
       "      <th>Low</th>\n",
       "      <th>Close</th>\n",
       "      <th>Adj Close</th>\n",
       "      <th>Volume</th>\n",
       "    </tr>\n",
       "  </thead>\n",
       "  <tbody>\n",
       "    <tr>\n",
       "      <th>0</th>\n",
       "      <td>2010-07-01</td>\n",
       "      <td>5.000</td>\n",
       "      <td>5.184</td>\n",
       "      <td>4.054</td>\n",
       "      <td>4.392</td>\n",
       "      <td>4.392</td>\n",
       "      <td>41094000</td>\n",
       "    </tr>\n",
       "    <tr>\n",
       "      <th>1</th>\n",
       "      <td>2010-07-02</td>\n",
       "      <td>4.600</td>\n",
       "      <td>4.620</td>\n",
       "      <td>3.742</td>\n",
       "      <td>3.840</td>\n",
       "      <td>3.840</td>\n",
       "      <td>25699000</td>\n",
       "    </tr>\n",
       "    <tr>\n",
       "      <th>2</th>\n",
       "      <td>2010-07-06</td>\n",
       "      <td>4.000</td>\n",
       "      <td>4.000</td>\n",
       "      <td>3.166</td>\n",
       "      <td>3.222</td>\n",
       "      <td>3.222</td>\n",
       "      <td>34334500</td>\n",
       "    </tr>\n",
       "    <tr>\n",
       "      <th>3</th>\n",
       "      <td>2010-07-07</td>\n",
       "      <td>3.280</td>\n",
       "      <td>3.326</td>\n",
       "      <td>2.996</td>\n",
       "      <td>3.160</td>\n",
       "      <td>3.160</td>\n",
       "      <td>34608500</td>\n",
       "    </tr>\n",
       "    <tr>\n",
       "      <th>4</th>\n",
       "      <td>2010-07-08</td>\n",
       "      <td>3.228</td>\n",
       "      <td>3.504</td>\n",
       "      <td>3.114</td>\n",
       "      <td>3.492</td>\n",
       "      <td>3.492</td>\n",
       "      <td>38557000</td>\n",
       "    </tr>\n",
       "  </tbody>\n",
       "</table>\n",
       "</div>"
      ],
      "text/plain": [
       "         Date   Open   High    Low  Close  Adj Close    Volume\n",
       "0  2010-07-01  5.000  5.184  4.054  4.392      4.392  41094000\n",
       "1  2010-07-02  4.600  4.620  3.742  3.840      3.840  25699000\n",
       "2  2010-07-06  4.000  4.000  3.166  3.222      3.222  34334500\n",
       "3  2010-07-07  3.280  3.326  2.996  3.160      3.160  34608500\n",
       "4  2010-07-08  3.228  3.504  3.114  3.492      3.492  38557000"
      ]
     },
     "execution_count": 2,
     "metadata": {},
     "output_type": "execute_result"
    }
   ],
   "source": [
    "df = pd.read_csv('./TSLA.csv')\n",
    "df.head()"
   ]
  },
  {
   "cell_type": "markdown",
   "id": "2ff2f6b7",
   "metadata": {},
   "source": [
    "We will only be caring about the 'Open' values of the stock each day."
   ]
  },
  {
   "cell_type": "code",
   "execution_count": 3,
   "id": "af198193",
   "metadata": {},
   "outputs": [],
   "source": [
    "data = df['Open'].values\n",
    "data = data.reshape(-1, 1)"
   ]
  },
  {
   "cell_type": "code",
   "execution_count": 4,
   "id": "35bee6b1",
   "metadata": {},
   "outputs": [
    {
     "data": {
      "text/plain": [
       "<matplotlib.legend.Legend at 0x16b81bf90>"
      ]
     },
     "execution_count": 4,
     "metadata": {},
     "output_type": "execute_result"
    },
    {
     "data": {
      "image/png": "[encoded data removed]",
      "text/plain": [
       "<Figure size 640x480 with 1 Axes>"
      ]
     },
     "metadata": {},
     "output_type": "display_data"
    }
   ],
   "source": [
    "plt.plot(data, color='red', label='Tesla opening price')\n",
    "plt.legend()"
   ]
  },
  {
   "cell_type": "markdown",
   "id": "a638cc02",
   "metadata": {},
   "source": [
    "Now let’s split the data into training and testing sets, using the first 80% of the dataset as training and the newest 20% for testing"
   ]
  },
  {
   "cell_type": "code",
   "execution_count": 5,
   "id": "bf1bc906",
   "metadata": {},
   "outputs": [
    {
     "name": "stdout",
     "output_type": "stream",
     "text": [
      "(1913, 1)\n",
      "(479, 1)\n"
     ]
    }
   ],
   "source": [
    "dataset_train = np.array(data[:int(data.shape[0]*0.8)])\n",
    "dataset_test = np.array(data[int(data.shape[0]*0.8):])\n",
    "print(dataset_train.shape)\n",
    "print(dataset_test.shape)"
   ]
  },
  {
   "cell_type": "markdown",
   "id": "a322a2df",
   "metadata": {},
   "source": [
    "We will use the MinMaxScaler to scale the data between zero and one."
   ]
  },
  {
   "cell_type": "code",
   "execution_count": 6,
   "id": "97ab2dd6",
   "metadata": {},
   "outputs": [
    {
     "name": "stdout",
     "output_type": "stream",
     "text": [
      "(1913, 1)\n",
      "(479, 1)\n"
     ]
    }
   ],
   "source": [
    "scaler = MinMaxScaler(feature_range=(0,1))\n",
    "dataset_train = scaler.fit_transform(dataset_train)\n",
    "dataset_test = scaler.transform(dataset_test)\n",
    "print(dataset_train.shape)\n",
    "print(dataset_test.shape)"
   ]
  },
  {
   "cell_type": "code",
   "execution_count": 7,
   "id": "b11cb052",
   "metadata": {},
   "outputs": [
    {
     "data": {
      "image/png": "[encoded data removed]",
      "text/plain": [
       "<Figure size 640x480 with 1 Axes>"
      ]
     },
     "metadata": {},
     "output_type": "display_data"
    }
   ],
   "source": [
    "plt.plot(np.linspace(1,1913,1913),dataset_train)\n",
    "plt.plot(np.linspace(1914,2392,479),dataset_test)\n",
    "plt.show()"
   ]
  },
  {
   "cell_type": "markdown",
   "id": "a1c056f4",
   "metadata": {},
   "source": [
    "For the features (x), we will always append the last 10 prices, and for the label (y), we will append the next price. Then we will use numpy to convert it into an array.\n",
    "\n",
    "So we are using a history of prior 10 days of stock market opens to try and predict the next day."
   ]
  },
  {
   "cell_type": "code",
   "execution_count": 8,
   "id": "d983956e",
   "metadata": {},
   "outputs": [],
   "source": [
    "def create_dataset(df):\n",
    "    x = []\n",
    "    y = []\n",
    "    for i in range(10, df.shape[0]):\n",
    "        x.append(df[i-10:i, 0])\n",
    "        y.append(df[i, 0])\n",
    "    x = np.array(x)\n",
    "    y = np.array(y)\n",
    "    return x,y"
   ]
  },
  {
   "cell_type": "markdown",
   "id": "d01d770e",
   "metadata": {},
   "source": [
    "We create our training and testing data by calling our function for each one:"
   ]
  },
  {
   "cell_type": "code",
   "execution_count": 9,
   "id": "5aa88c44",
   "metadata": {},
   "outputs": [],
   "source": [
    "x_train, y_train = create_dataset(dataset_train)\n",
    "x_test, y_test = create_dataset(dataset_test)"
   ]
  },
  {
   "cell_type": "code",
   "execution_count": 10,
   "id": "44132068",
   "metadata": {},
   "outputs": [
    {
     "data": {
      "text/plain": [
       "(469, 10)"
      ]
     },
     "execution_count": 10,
     "metadata": {},
     "output_type": "execute_result"
    }
   ],
   "source": [
    "x_test.shape"
   ]
  },
  {
   "cell_type": "markdown",
   "id": "09a096d7",
   "metadata": {},
   "source": [
    "Next, we need to reshape our data to make it an array"
   ]
  },
  {
   "cell_type": "code",
   "execution_count": 11,
   "id": "76024f4b",
   "metadata": {},
   "outputs": [],
   "source": [
    "x_train = np.reshape(x_train, (x_train.shape[0], x_train.shape[1], 1))\n",
    "x_test = np.reshape(x_test, (x_test.shape[0], x_test.shape[1], 1))"
   ]
  },
  {
   "cell_type": "markdown",
   "id": "ed0e5355",
   "metadata": {},
   "source": [
    "RNN Model and its hyperparameters."
   ]
  },
  {
   "cell_type": "code",
   "execution_count": 12,
   "id": "84fcf162",
   "metadata": {},
   "outputs": [],
   "source": [
    "model = Sequential()\n",
    "model.add(LSTM(units=96, return_sequences=True, input_shape=(x_train.shape[1], 1)))\n",
    "model.add(Dropout(0.2))\n",
    "model.add(LSTM(units=96, return_sequences=True))\n",
    "model.add(Dropout(0.2))\n",
    "model.add(LSTM(units=96, return_sequences=True))\n",
    "model.add(Dropout(0.2))\n",
    "model.add(LSTM(units=96))\n",
    "model.add(Dropout(0.2))\n",
    "model.add(Dense(units=1))"
   ]
  },
  {
   "cell_type": "code",
   "execution_count": 13,
   "id": "9d3e5548",
   "metadata": {},
   "outputs": [
    {
     "name": "stdout",
     "output_type": "stream",
     "text": [
      "Epoch 1/50\n"
     ]
    },
    {
     "name": "stderr",
     "output_type": "stream",
     "text": [
      "2024-03-06 10:21:01.438920: W tensorflow/tsl/platform/profile_utils/cpu_utils.cc:128] Failed to get CPU frequency: 0 Hz\n"
     ]
    },
    {
     "name": "stdout",
     "output_type": "stream",
     "text": [
      "60/60 [==============================] - 3s 18ms/step - loss: 0.0229\n",
      "Epoch 2/50\n",
      "60/60 [==============================] - 1s 18ms/step - loss: 0.0027\n",
      "Epoch 3/50\n",
      "60/60 [==============================] - 1s 18ms/step - loss: 0.0026\n",
      "Epoch 4/50\n",
      "60/60 [==============================] - 1s 18ms/step - loss: 0.0026\n",
      "Epoch 5/50\n",
      "60/60 [==============================] - 1s 18ms/step - loss: 0.0023\n",
      "Epoch 6/50\n",
      "60/60 [==============================] - 1s 18ms/step - loss: 0.0023\n",
      "Epoch 7/50\n",
      "60/60 [==============================] - 1s 18ms/step - loss: 0.0030\n",
      "Epoch 8/50\n",
      "60/60 [==============================] - 1s 18ms/step - loss: 0.0022\n",
      "Epoch 9/50\n",
      "60/60 [==============================] - 1s 18ms/step - loss: 0.0021\n",
      "Epoch 10/50\n",
      "60/60 [==============================] - 1s 18ms/step - loss: 0.0022\n",
      "Epoch 11/50\n",
      "60/60 [==============================] - 1s 18ms/step - loss: 0.0021\n",
      "Epoch 12/50\n",
      "60/60 [==============================] - 1s 19ms/step - loss: 0.0021\n",
      "Epoch 13/50\n",
      "60/60 [==============================] - 1s 19ms/step - loss: 0.0020\n",
      "Epoch 14/50\n",
      "60/60 [==============================] - 1s 18ms/step - loss: 0.0025\n",
      "Epoch 15/50\n",
      "60/60 [==============================] - 1s 19ms/step - loss: 0.0018\n",
      "Epoch 16/50\n",
      "60/60 [==============================] - 1s 18ms/step - loss: 0.0019\n",
      "Epoch 17/50\n",
      "60/60 [==============================] - 1s 19ms/step - loss: 0.0018\n",
      "Epoch 18/50\n",
      "60/60 [==============================] - 1s 19ms/step - loss: 0.0020\n",
      "Epoch 19/50\n",
      "60/60 [==============================] - 1s 19ms/step - loss: 0.0017\n",
      "Epoch 20/50\n",
      "60/60 [==============================] - 1s 19ms/step - loss: 0.0018\n",
      "Epoch 21/50\n",
      "60/60 [==============================] - 1s 19ms/step - loss: 0.0019\n",
      "Epoch 22/50\n",
      "60/60 [==============================] - 1s 19ms/step - loss: 0.0017\n",
      "Epoch 23/50\n",
      "60/60 [==============================] - 1s 19ms/step - loss: 0.0016\n",
      "Epoch 24/50\n",
      "60/60 [==============================] - 1s 19ms/step - loss: 0.0019\n",
      "Epoch 25/50\n",
      "60/60 [==============================] - 1s 19ms/step - loss: 0.0016\n",
      "Epoch 26/50\n",
      "60/60 [==============================] - 1s 19ms/step - loss: 0.0015\n",
      "Epoch 27/50\n",
      "60/60 [==============================] - 1s 19ms/step - loss: 0.0015\n",
      "Epoch 28/50\n",
      "60/60 [==============================] - 1s 19ms/step - loss: 0.0015\n",
      "Epoch 29/50\n",
      "60/60 [==============================] - 1s 19ms/step - loss: 0.0016\n",
      "Epoch 30/50\n",
      "60/60 [==============================] - 1s 19ms/step - loss: 0.0016\n",
      "Epoch 31/50\n",
      "60/60 [==============================] - 1s 19ms/step - loss: 0.0015\n",
      "Epoch 32/50\n",
      "60/60 [==============================] - 1s 19ms/step - loss: 0.0015\n",
      "Epoch 33/50\n",
      "60/60 [==============================] - 1s 19ms/step - loss: 0.0013\n",
      "Epoch 34/50\n",
      "60/60 [==============================] - 1s 19ms/step - loss: 0.0013\n",
      "Epoch 35/50\n",
      "60/60 [==============================] - 1s 19ms/step - loss: 0.0015\n",
      "Epoch 36/50\n",
      "60/60 [==============================] - 1s 19ms/step - loss: 0.0014\n",
      "Epoch 37/50\n",
      "60/60 [==============================] - 1s 19ms/step - loss: 0.0014\n",
      "Epoch 38/50\n",
      "60/60 [==============================] - 1s 18ms/step - loss: 0.0014\n",
      "Epoch 39/50\n",
      "60/60 [==============================] - 1s 18ms/step - loss: 0.0013\n",
      "Epoch 40/50\n",
      "60/60 [==============================] - 1s 18ms/step - loss: 0.0013\n",
      "Epoch 41/50\n",
      "60/60 [==============================] - 1s 19ms/step - loss: 0.0012\n",
      "Epoch 42/50\n",
      "60/60 [==============================] - 1s 19ms/step - loss: 0.0013\n",
      "Epoch 43/50\n",
      "60/60 [==============================] - 1s 19ms/step - loss: 0.0013\n",
      "Epoch 44/50\n",
      "60/60 [==============================] - 1s 19ms/step - loss: 0.0012\n",
      "Epoch 45/50\n",
      "60/60 [==============================] - 1s 19ms/step - loss: 0.0012\n",
      "Epoch 46/50\n",
      "60/60 [==============================] - 1s 18ms/step - loss: 0.0011\n",
      "Epoch 47/50\n",
      "60/60 [==============================] - 1s 19ms/step - loss: 0.0011\n",
      "Epoch 48/50\n",
      "60/60 [==============================] - 1s 18ms/step - loss: 0.0012\n",
      "Epoch 49/50\n",
      "60/60 [==============================] - 1s 18ms/step - loss: 0.0013\n",
      "Epoch 50/50\n",
      "60/60 [==============================] - 1s 18ms/step - loss: 0.0013\n"
     ]
    },
    {
     "data": {
      "text/plain": [
       "<keras.callbacks.History at 0x176482610>"
      ]
     },
     "execution_count": 13,
     "metadata": {},
     "output_type": "execute_result"
    }
   ],
   "source": [
    "#x_train = np.reshape(x_train, (x_train.shape[0], x_train.shape[1], 1))\n",
    "#x_test = np.reshape(x_test, (x_test.shape[0], x_test.shape[1], 1))\n",
    "model.compile(loss='mean_squared_error', optimizer='adam')\n",
    "model.fit(x_train, y_train, epochs=50, batch_size=32)"
   ]
  },
  {
   "cell_type": "markdown",
   "id": "cceca91d",
   "metadata": {},
   "source": [
    "Now make predictions using the model"
   ]
  },
  {
   "cell_type": "code",
   "execution_count": 14,
   "id": "1e1321df",
   "metadata": {},
   "outputs": [
    {
     "name": "stdout",
     "output_type": "stream",
     "text": [
      "15/15 [==============================] - 1s 5ms/step\n",
      "(469, 1)\n"
     ]
    }
   ],
   "source": [
    "predictions = model.predict(x_test)\n",
    "predictions = scaler.inverse_transform(predictions)\n",
    "print(predictions.shape)\n",
    "y_pred_scaled = scaler.inverse_transform(predictions.reshape(-1, 1))"
   ]
  },
  {
   "cell_type": "markdown",
   "id": "9dbb4cdd",
   "metadata": {},
   "source": [
    "We plot three graphs on the same plot: training data, test data, and prediction"
   ]
  },
  {
   "cell_type": "code",
   "execution_count": 15,
   "id": "58a56822",
   "metadata": {
    "scrolled": false
   },
   "outputs": [
    {
     "data": {
      "image/png": "[encoded data removed]",
      "text/plain": [
       "<Figure size 640x480 with 1 Axes>"
      ]
     },
     "metadata": {},
     "output_type": "display_data"
    }
   ],
   "source": [
    "plt.plot(np.linspace(1,1913,1913),dataset_train)\n",
    "plt.plot(np.linspace(1914,2392,479),dataset_test)\n",
    "plt.plot(np.linspace(1924,2392,469),y_pred_scaled)\n",
    "plt.show()"
   ]
  },
  {
   "cell_type": "markdown",
   "id": "c506fdd3",
   "metadata": {},
   "source": [
    "# Your turn: \n",
    "\n",
    "Play with the number of training days (currently set to 10). Also, if you are brave, try playing with the hyperparameters."
   ]
  },
  {
   "cell_type": "code",
   "execution_count": null,
   "id": "6b1d903b",
   "metadata": {},
   "outputs": [],
   "source": []
  },
  {
   "cell_type": "code",
   "execution_count": null,
   "id": "4d88945c",
   "metadata": {},
   "outputs": [],
   "source": []
  },
  {
   "cell_type": "code",
   "execution_count": null,
   "id": "aafa759e",
   "metadata": {},
   "outputs": [],
   "source": []
  }
 ],
 "metadata": {
  "kernelspec": {
   "display_name": "Python 3 (ipykernel)",
   "language": "python",
   "name": "python3"
  },
  "language_info": {
   "codemirror_mode": {
    "name": "ipython",
    "version": 3
   },
   "file_extension": ".py",
   "mimetype": "text/x-python",
   "name": "python",
   "nbconvert_exporter": "python",
   "pygments_lexer": "ipython3",
   "version": "3.11.5"
  }
 },
 "nbformat": 4,
 "nbformat_minor": 5
}
