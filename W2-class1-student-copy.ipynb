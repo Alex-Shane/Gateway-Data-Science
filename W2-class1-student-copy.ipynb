{
 "cells": [
  {
   "cell_type": "markdown",
   "id": "93c1f5ee",
   "metadata": {},
   "source": [
    "## Linear regression analysis of TV sales\n",
    "\n",
    "This is an example of using linear regression on advertisement data.  The data report sales of TV sets and they related to advertising budgets on TV, radio, and newspaper.  [This is an old data set that has been used for tutorials]"
   ]
  },
  {
   "cell_type": "code",
   "execution_count": null,
   "id": "b69e746a",
   "metadata": {},
   "outputs": [],
   "source": [
    "import numpy as np\n",
    "import pandas as pd\n",
    "import matplotlib.pyplot as plt\n",
    "import seaborn as sns\n",
    "from sklearn.linear_model import LinearRegression"
   ]
  },
  {
   "cell_type": "markdown",
   "id": "d9baadd0",
   "metadata": {},
   "source": [
    "Next, the usual things we do when we get data ..."
   ]
  },
  {
   "cell_type": "code",
   "execution_count": null,
   "id": "daed70a9",
   "metadata": {
    "scrolled": true
   },
   "outputs": [],
   "source": [
    "df = pd.read_csv(\"./data/advertising.csv\")\n",
    "df.head()"
   ]
  },
  {
   "cell_type": "code",
   "execution_count": null,
   "id": "833c842a",
   "metadata": {},
   "outputs": [],
   "source": [
    "df.info()"
   ]
  },
  {
   "cell_type": "markdown",
   "id": "bdb32290",
   "metadata": {},
   "source": [
    "Do a scatterplot of `Sales` is related to `TV`. How well do you think linear regression will do?"
   ]
  },
  {
   "cell_type": "code",
   "execution_count": null,
   "id": "859d1969",
   "metadata": {
    "scrolled": false
   },
   "outputs": [],
   "source": [
    "###"
   ]
  },
  {
   "cell_type": "markdown",
   "id": "8b615e37",
   "metadata": {},
   "source": [
    "**Note**: I converted `df` columns into `np.array`, but it ends up being a row, so I have to use `reshape(-1,1)` to make it into a column.  Now I can run `LinearRegression`"
   ]
  },
  {
   "cell_type": "code",
   "execution_count": null,
   "id": "1af00149",
   "metadata": {},
   "outputs": [],
   "source": [
    "x = np.array(df['TV']).reshape(-1,1)\n",
    "y = np.array(df['Sales']).reshape(-1,1)\n",
    "model1 = LinearRegression().fit(x, y)"
   ]
  },
  {
   "cell_type": "markdown",
   "id": "791f6d51",
   "metadata": {},
   "source": [
    "Evaluate the model by using `model1.score(x,y)`. What is the interpretation of the score?"
   ]
  },
  {
   "cell_type": "code",
   "execution_count": null,
   "id": "82ef6fbe",
   "metadata": {},
   "outputs": [],
   "source": [
    "##"
   ]
  },
  {
   "cell_type": "markdown",
   "id": "f311537a",
   "metadata": {},
   "source": [
    "Define b to be the intercept and a to be the slope, extract these from `model1`"
   ]
  },
  {
   "cell_type": "code",
   "execution_count": null,
   "id": "76b2e2ce",
   "metadata": {},
   "outputs": [],
   "source": [
    "##"
   ]
  },
  {
   "cell_type": "markdown",
   "id": "1ded1b25",
   "metadata": {},
   "source": [
    "Visualize how well we did by overlaying the regression line over the data. I used `model1.predict(x_pred)`, write the equation of the line using a and b above."
   ]
  },
  {
   "cell_type": "code",
   "execution_count": null,
   "id": "76785203",
   "metadata": {
    "scrolled": false
   },
   "outputs": [],
   "source": [
    "x_pred = np.linspace(0, 300, num=20).reshape((-1,1))\n",
    "y_pred = model1.predict(x_pred)\n",
    "# your sns.scatterplot here\n",
    "plt.plot(x_pred, y_pred, color=\"red\")\n",
    "plt.show()"
   ]
  },
  {
   "cell_type": "markdown",
   "id": "08bd7f29",
   "metadata": {},
   "source": [
    "Now we are going to split the data into training and testing sets using `train_test_split`"
   ]
  },
  {
   "cell_type": "code",
   "execution_count": null,
   "id": "99339ff6",
   "metadata": {},
   "outputs": [],
   "source": [
    "from sklearn.model_selection import train_test_split\n",
    "x_train, x_test, y_train, y_test = train_test_split(x, y, test_size=0.30)"
   ]
  },
  {
   "cell_type": "markdown",
   "id": "2c8e9806",
   "metadata": {},
   "source": [
    "I wanted to see how the split is made so I plotted. Use `plt.scatter(x_train, y_train, color=\"red\"` to plot the training data points.  Choose a different color for the test points."
   ]
  },
  {
   "cell_type": "code",
   "execution_count": null,
   "id": "4eb2ca05",
   "metadata": {
    "scrolled": true
   },
   "outputs": [],
   "source": [
    "plt.scatter(x_train, y_train, color=\"red\")\n",
    "# text point scatter plot here\n",
    "plt.show()"
   ]
  },
  {
   "cell_type": "markdown",
   "id": "28115c43",
   "metadata": {},
   "source": [
    "Linear regression on the training set."
   ]
  },
  {
   "cell_type": "code",
   "execution_count": null,
   "id": "e80e1bc1",
   "metadata": {},
   "outputs": [],
   "source": [
    "model2 = LinearRegression().fit(x_train, y_train)"
   ]
  },
  {
   "cell_type": "markdown",
   "id": "c0e30469",
   "metadata": {},
   "source": [
    "Scoring the model to assess training error and testing error"
   ]
  },
  {
   "cell_type": "code",
   "execution_count": null,
   "id": "3da14f91",
   "metadata": {},
   "outputs": [],
   "source": [
    "#"
   ]
  },
  {
   "cell_type": "code",
   "execution_count": null,
   "id": "cdd963bd",
   "metadata": {},
   "outputs": [],
   "source": [
    "#"
   ]
  },
  {
   "cell_type": "markdown",
   "id": "af69e11d",
   "metadata": {},
   "source": [
    "## Your turn\n",
    "Perform the same analysis to `Sales` vs `Newspaper`"
   ]
  },
  {
   "cell_type": "code",
   "execution_count": null,
   "id": "c21b1d20",
   "metadata": {
    "scrolled": true
   },
   "outputs": [],
   "source": [
    "sns.scatterplot(data = df, x = \"Newspaper\", y = \"Sales\")"
   ]
  }
 ],
 "metadata": {
  "kernelspec": {
   "display_name": "Python 3 (ipykernel)",
   "language": "python",
   "name": "python3"
  },
  "language_info": {
   "codemirror_mode": {
    "name": "ipython",
    "version": 3
   },
   "file_extension": ".py",
   "mimetype": "text/x-python",
   "name": "python",
   "nbconvert_exporter": "python",
   "pygments_lexer": "ipython3",
   "version": "3.11.5"
  }
 },
 "nbformat": 4,
 "nbformat_minor": 5
}
