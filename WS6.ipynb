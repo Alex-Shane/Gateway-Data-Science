{
 "cells": [
  {
   "cell_type": "markdown",
   "id": "ecc74bb6",
   "metadata": {},
   "source": [
    "# Worksheet 6\n",
    "\n",
    "For this worksheet your will train a neural network for a multi-class classification task.  The dataset is from UCI.  Please read \"Data Set Description\" here https://archive.ics.uci.edu/ml/datasets/ecoli\n",
    "\n",
    "Download the data from https://www.kaggle.com/datasets/kannanaikkal/ecoli-uci-dataset\n",
    "\n",
    "**Please answer the questions below.**"
   ]
  },
  {
   "cell_type": "code",
   "execution_count": 46,
   "id": "9483f2b4",
   "metadata": {},
   "outputs": [],
   "source": [
    "import numpy as np\n",
    "import pandas as pd\n",
    "import matplotlib.pyplot as plt\n",
    "import seaborn as sns\n",
    "from sklearn.neural_network import MLPClassifier\n",
    "from sklearn.preprocessing import LabelEncoder as le\n",
    "from sklearn.metrics import confusion_matrix\n",
    "from sklearn.neighbors import KNeighborsClassifier"
   ]
  },
  {
   "cell_type": "markdown",
   "id": "27a8d3dc",
   "metadata": {},
   "source": [
    "1. Provide a short description of the data.  What are the classes? "
   ]
  },
  {
   "cell_type": "code",
   "execution_count": 10,
   "id": "5ae481cb",
   "metadata": {},
   "outputs": [
    {
     "data": {
      "text/plain": [
       "SITE\n",
       "cp     143\n",
       "im      77\n",
       "pp      52\n",
       "imU     35\n",
       "om      20\n",
       "omL      5\n",
       "imS      2\n",
       "imL      2\n",
       "Name: count, dtype: int64"
      ]
     },
     "execution_count": 10,
     "metadata": {},
     "output_type": "execute_result"
    }
   ],
   "source": [
    "df = pd.read_csv('./ecoli.csv')\n",
    "df['SITE'].value_counts()\n",
    "# the classes are the different site types (cp, im, pp, imU, om, omL, imS, imL)\n",
    "# the data also contains 7 feature variables measuring different things related to ecoli"
   ]
  },
  {
   "cell_type": "markdown",
   "id": "6f6c982d",
   "metadata": {},
   "source": [
    "2. You will notice that the data are somewhat unbalanced.  Show that there are some class with 5, 2 and 2 samples.  Remove these from the dataset.  Use method `dataframe.loc[ ~ dataframe.SITE.isin([ ....]) ]`"
   ]
  },
  {
   "cell_type": "code",
   "execution_count": 11,
   "id": "ef4498fc",
   "metadata": {},
   "outputs": [
    {
     "data": {
      "text/plain": [
       "SITE\n",
       "cp     143\n",
       "im      77\n",
       "pp      52\n",
       "imU     35\n",
       "om      20\n",
       "Name: count, dtype: int64"
      ]
     },
     "execution_count": 11,
     "metadata": {},
     "output_type": "execute_result"
    }
   ],
   "source": [
    "unbalanced = ['omL', 'imS', 'imL']\n",
    "df = df.loc[~df['SITE'].isin(unbalanced)]\n",
    "df['SITE'].value_counts()"
   ]
  },
  {
   "cell_type": "markdown",
   "id": "2a84e8d2",
   "metadata": {},
   "source": [
    "3. Prepare the dataframe for training the model.  Create the features `X` from columns 2 to 8, and the targets `y` from column 9.  There should be only five classes after removal of the class `imS` (2), `imL` (2), `omL` (5).  Use `LabelEncoder().fit_transform(...)` from `sklearn.preprocessing` to change label names into integers."
   ]
  },
  {
   "cell_type": "code",
   "execution_count": 26,
   "id": "14493b63",
   "metadata": {},
   "outputs": [
    {
     "name": "stdout",
     "output_type": "stream",
     "text": [
      "[0 0 0 0 0 0 0 0 0 0 0 0 0 0 0 0 0 0 0 0 0 0 0 0 0 0 0 0 0 0 0 0 0 0 0 0 0\n",
      " 0 0 0 0 0 0 0 0 0 0 0 0 0 0 0 0 0 0 0 0 0 0 0 0 0 0 0 0 0 0 0 0 0 0 0 0 0\n",
      " 0 0 0 0 0 0 0 0 0 0 0 0 0 0 0 0 0 0 0 0 0 0 0 0 0 0 0 0 0 0 0 0 0 0 0 0 0\n",
      " 0 0 0 0 0 0 0 0 0 0 0 0 0 0 0 0 0 0 0 0 0 0 0 0 0 0 0 0 0 0 0 0 1 1 1 1 1\n",
      " 1 1 1 1 1 1 1 1 1 1 1 1 1 1 1 1 1 1 1 1 1 1 1 1 1 1 1 1 1 1 1 1 1 1 1 1 1\n",
      " 1 1 1 1 1 1 1 1 1 1 1 1 1 1 1 1 1 1 1 1 1 1 1 1 1 1 1 1 1 1 1 1 1 1 1 2 2\n",
      " 2 2 2 2 2 2 2 2 2 2 2 2 2 2 2 2 2 2 2 2 2 2 2 2 2 2 2 2 2 2 2 2 2 3 3 3 3\n",
      " 3 3 3 3 3 3 3 3 3 3 3 3 3 3 3 3 4 4 4 4 4 4 4 4 4 4 4 4 4 4 4 4 4 4 4 4 4\n",
      " 4 4 4 4 4 4 4 4 4 4 4 4 4 4 4 4 4 4 4 4 4 4 4 4 4 4 4 4 4 4 4]\n"
     ]
    }
   ],
   "source": [
    "X = df.iloc[:, 2:8]\n",
    "y = le().fit_transform(df['SITE'])\n",
    "print(y)"
   ]
  },
  {
   "cell_type": "markdown",
   "id": "1fdc5943",
   "metadata": {},
   "source": [
    "4. Use `MLPClassifier` to train the model. Choose `hidden_layer_sizes`, `activation`, `max_iter`."
   ]
  },
  {
   "cell_type": "code",
   "execution_count": 27,
   "id": "dcbc1740",
   "metadata": {},
   "outputs": [],
   "source": [
    "model = MLPClassifier(hidden_layer_sizes=(20,20), activation='relu', max_iter=500)"
   ]
  },
  {
   "cell_type": "markdown",
   "id": "c6d4b718",
   "metadata": {},
   "source": [
    "5. Since the dataset is too small, we will not do train-test split.  We will use all the data and we will assess the model using `confusion_matrix` and `.score` method."
   ]
  },
  {
   "cell_type": "code",
   "execution_count": 37,
   "id": "2b3bbcdf",
   "metadata": {},
   "outputs": [
    {
     "name": "stdout",
     "output_type": "stream",
     "text": [
      "0.8440366972477065\n",
      "[[141   0   0   0   2]\n",
      " [  2  73   0   0   2]\n",
      " [  1  34   0   0   0]\n",
      " [  0   0   0  18   2]\n",
      " [  6   2   0   0  44]]\n"
     ]
    },
    {
     "name": "stderr",
     "output_type": "stream",
     "text": [
      "/Users/Alex_1/anaconda3/lib/python3.11/site-packages/sklearn/neural_network/_multilayer_perceptron.py:691: ConvergenceWarning: Stochastic Optimizer: Maximum iterations (500) reached and the optimization hasn't converged yet.\n",
      "  warnings.warn(\n"
     ]
    }
   ],
   "source": [
    "model.fit(X, y)\n",
    "y_pred = model.predict(X)\n",
    "print(model.score(X, y))\n",
    "matrix = confusion_matrix(y, y_pred)\n",
    "print(matrix)"
   ]
  },
  {
   "cell_type": "markdown",
   "id": "6504bd18",
   "metadata": {},
   "source": [
    "6. Play with the hyper-parameters to see if you can get better results."
   ]
  },
  {
   "cell_type": "code",
   "execution_count": 44,
   "id": "bfbff8cc",
   "metadata": {},
   "outputs": [
    {
     "name": "stdout",
     "output_type": "stream",
     "text": [
      "0.9388379204892966\n",
      "[[143   0   0   0   0]\n",
      " [  0  70   7   0   0]\n",
      " [  0  11  24   0   0]\n",
      " [  0   0   0  20   0]\n",
      " [  2   0   0   0  50]]\n"
     ]
    },
    {
     "name": "stderr",
     "output_type": "stream",
     "text": [
      "/Users/Alex_1/anaconda3/lib/python3.11/site-packages/sklearn/neural_network/_multilayer_perceptron.py:546: ConvergenceWarning: lbfgs failed to converge (status=1):\n",
      "STOP: TOTAL NO. of ITERATIONS REACHED LIMIT.\n",
      "\n",
      "Increase the number of iterations (max_iter) or scale the data as shown in:\n",
      "    https://scikit-learn.org/stable/modules/preprocessing.html\n",
      "  self.n_iter_ = _check_optimize_result(\"lbfgs\", opt_res, self.max_iter)\n"
     ]
    }
   ],
   "source": [
    "model = MLPClassifier(hidden_layer_sizes=(50,50), activation='relu', solver='lbfgs', max_iter=1500)\n",
    "model.fit(X, y)\n",
    "y_pred = model.predict(X)\n",
    "print(model.score(X, y))\n",
    "matrix = confusion_matrix(y, y_pred)\n",
    "print(matrix)"
   ]
  },
  {
   "cell_type": "markdown",
   "id": "c86ba253",
   "metadata": {},
   "source": [
    "7. Redo using nearest neighbor classifier `KNeighborsClassifier`.  You will need to play with k to get the best result."
   ]
  },
  {
   "cell_type": "code",
   "execution_count": 54,
   "id": "ac29114e",
   "metadata": {},
   "outputs": [
    {
     "name": "stdout",
     "output_type": "stream",
     "text": [
      "[[143   0   0   0   0]\n",
      " [  2  75   0   0   0]\n",
      " [  2  24   9   0   0]\n",
      " [  0   0   1  19   0]\n",
      " [  5   2   0   2  43]]\n",
      "0.8837920489296636\n",
      "2\n"
     ]
    }
   ],
   "source": [
    "possible_k = [2, 3, 5, 7, 10, 15, 20, 25, 30, 35, 40, 45]\n",
    "best_score = -1\n",
    "best_k = -1\n",
    "for k in possible_k:\n",
    "    knn = KNeighborsClassifier(n_neighbors=k)\n",
    "    knn.fit(X, y)\n",
    "    score = knn.score(X,y)\n",
    "    if score > best_score:\n",
    "        best_score = score\n",
    "        best_k = k\n",
    "\n",
    "knn_best = KNeighborsClassifier(n_neighbors=best_k)\n",
    "knn_best.fit(X, y)\n",
    "y_pred = knn_best.predict(X)\n",
    "conf_matrix = confusion_matrix(y, y_pred)\n",
    "print(conf_matrix)\n",
    "print(knn_best.score(X,y))\n",
    "print(best_k)"
   ]
  },
  {
   "cell_type": "markdown",
   "id": "234a6f0f",
   "metadata": {},
   "source": [
    "If KNN score is better than Neural Network classifier score, redo `MLPClassifier` with different number of layers and activation. Try to get close or better than KNN."
   ]
  },
  {
   "cell_type": "markdown",
   "id": "4939fe63",
   "metadata": {},
   "source": [
    "8. Give a short reflection on this worksheet."
   ]
  },
  {
   "cell_type": "code",
   "execution_count": null,
   "id": "cefb1057",
   "metadata": {},
   "outputs": [],
   "source": [
    "# This worksheet was interesting to see how playing with hyperparameters can improve model peformance significantly.\n",
    "# It was also cool to test neural network performance against knn and view what makes each model effective. "
   ]
  }
 ],
 "metadata": {
  "kernelspec": {
   "display_name": "Python 3 (ipykernel)",
   "language": "python",
   "name": "python3"
  },
  "language_info": {
   "codemirror_mode": {
    "name": "ipython",
    "version": 3
   },
   "file_extension": ".py",
   "mimetype": "text/x-python",
   "name": "python",
   "nbconvert_exporter": "python",
   "pygments_lexer": "ipython3",
   "version": "3.11.5"
  }
 },
 "nbformat": 4,
 "nbformat_minor": 5
}
