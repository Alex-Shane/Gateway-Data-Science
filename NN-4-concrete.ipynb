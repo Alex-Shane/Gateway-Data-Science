{
 "cells": [
  {
   "cell_type": "markdown",
   "id": "e35a373a",
   "metadata": {},
   "source": [
    "## Revisiting concrete strength data\n",
    "\n",
    "This time we will use ANN on the concrete data\n"
   ]
  },
  {
   "cell_type": "code",
   "execution_count": 1,
   "id": "e4c99db4",
   "metadata": {},
   "outputs": [],
   "source": [
    "import numpy as np\n",
    "import pandas as pd\n",
    "import matplotlib.pyplot as plt\n",
    "from sklearn.linear_model import LinearRegression\n",
    "from sklearn.neural_network import MLPRegressor\n",
    "from sklearn.model_selection import train_test_split\n",
    "from sklearn.metrics import mean_squared_error, r2_score"
   ]
  },
  {
   "cell_type": "markdown",
   "id": "4a5b7aeb",
   "metadata": {},
   "source": [
    "Read the data set"
   ]
  },
  {
   "cell_type": "code",
   "execution_count": 10,
   "id": "39c9fb88",
   "metadata": {},
   "outputs": [
    {
     "name": "stdout",
     "output_type": "stream",
     "text": [
      "       Cement (component 1)(kg in a m^3 mixture)  \\\n",
      "count                                1030.000000   \n",
      "mean                                  281.165631   \n",
      "std                                   104.507142   \n",
      "min                                   102.000000   \n",
      "25%                                   192.375000   \n",
      "50%                                   272.900000   \n",
      "75%                                   350.000000   \n",
      "max                                   540.000000   \n",
      "\n",
      "       Blast Furnace Slag (component 2)(kg in a m^3 mixture)  \\\n",
      "count                                        1030.000000       \n",
      "mean                                           73.895485       \n",
      "std                                            86.279104       \n",
      "min                                             0.000000       \n",
      "25%                                             0.000000       \n",
      "50%                                            22.000000       \n",
      "75%                                           142.950000       \n",
      "max                                           359.400000       \n",
      "\n",
      "       Fly Ash (component 3)(kg in a m^3 mixture)  \\\n",
      "count                                 1030.000000   \n",
      "mean                                    54.187136   \n",
      "std                                     63.996469   \n",
      "min                                      0.000000   \n",
      "25%                                      0.000000   \n",
      "50%                                      0.000000   \n",
      "75%                                    118.270000   \n",
      "max                                    200.100000   \n",
      "\n",
      "       Water  (component 4)(kg in a m^3 mixture)  \\\n",
      "count                                1030.000000   \n",
      "mean                                  181.566359   \n",
      "std                                    21.355567   \n",
      "min                                   121.750000   \n",
      "25%                                   164.900000   \n",
      "50%                                   185.000000   \n",
      "75%                                   192.000000   \n",
      "max                                   247.000000   \n",
      "\n",
      "       Superplasticizer (component 5)(kg in a m^3 mixture)  \\\n",
      "count                                        1030.000000     \n",
      "mean                                            6.203112     \n",
      "std                                             5.973492     \n",
      "min                                             0.000000     \n",
      "25%                                             0.000000     \n",
      "50%                                             6.350000     \n",
      "75%                                            10.160000     \n",
      "max                                            32.200000     \n",
      "\n",
      "       Coarse Aggregate  (component 6)(kg in a m^3 mixture)  \\\n",
      "count                                        1030.000000      \n",
      "mean                                          972.918592      \n",
      "std                                            77.753818      \n",
      "min                                           801.000000      \n",
      "25%                                           932.000000      \n",
      "50%                                           968.000000      \n",
      "75%                                          1029.400000      \n",
      "max                                          1145.000000      \n",
      "\n",
      "       Fine Aggregate (component 7)(kg in a m^3 mixture)    Age (day)  \\\n",
      "count                                        1030.000000  1030.000000   \n",
      "mean                                          773.578883    45.662136   \n",
      "std                                            80.175427    63.169912   \n",
      "min                                           594.000000     1.000000   \n",
      "25%                                           730.950000     7.000000   \n",
      "50%                                           779.510000    28.000000   \n",
      "75%                                           824.000000    56.000000   \n",
      "max                                           992.600000   365.000000   \n",
      "\n",
      "       Concrete compressive strength(MPa, megapascals)   \n",
      "count                                       1030.000000  \n",
      "mean                                          35.817836  \n",
      "std                                           16.705679  \n",
      "min                                            2.331808  \n",
      "25%                                           23.707115  \n",
      "50%                                           34.442774  \n",
      "75%                                           46.136287  \n",
      "max                                           82.599225  \n"
     ]
    }
   ],
   "source": [
    "df = pd.read_csv(\"./ConcreteCompressiveStrength.csv\")\n",
    "y = np.array(df.iloc[:,8]).reshape(-1,1)\n",
    "X = np.array(df.iloc[:,[0,1,2,3,4,5,6,7]])"
   ]
  },
  {
   "cell_type": "markdown",
   "id": "347a3f1b",
   "metadata": {},
   "source": [
    "Do the train-test split"
   ]
  },
  {
   "cell_type": "code",
   "execution_count": 3,
   "id": "9812748a",
   "metadata": {},
   "outputs": [],
   "source": [
    "X_train, X_test, y_train, y_test = train_test_split(X, y, test_size=0.30)"
   ]
  },
  {
   "cell_type": "markdown",
   "id": "94bb3966",
   "metadata": {},
   "source": [
    "Redo linear regression model"
   ]
  },
  {
   "cell_type": "code",
   "execution_count": 4,
   "id": "d7eafa85",
   "metadata": {},
   "outputs": [],
   "source": [
    "lin = LinearRegression().fit(X_train,y_train)"
   ]
  },
  {
   "cell_type": "markdown",
   "id": "a93e06ae",
   "metadata": {},
   "source": [
    "Check the test score"
   ]
  },
  {
   "cell_type": "code",
   "execution_count": 5,
   "id": "74f29645",
   "metadata": {},
   "outputs": [
    {
     "name": "stdout",
     "output_type": "stream",
     "text": [
      "0.5890286864194688\n"
     ]
    }
   ],
   "source": [
    "print(lin.score(X_test, y_test))"
   ]
  },
  {
   "cell_type": "markdown",
   "id": "30663087",
   "metadata": {},
   "source": [
    "Use model for prediction"
   ]
  },
  {
   "cell_type": "code",
   "execution_count": 6,
   "id": "37ff473a",
   "metadata": {},
   "outputs": [],
   "source": [
    "y_pred_lin = lin.predict(X_test)"
   ]
  },
  {
   "cell_type": "markdown",
   "id": "e3d3a516",
   "metadata": {},
   "source": [
    "Neural network regression on the same data set"
   ]
  },
  {
   "cell_type": "code",
   "execution_count": 23,
   "id": "69894d7c",
   "metadata": {
    "scrolled": true
   },
   "outputs": [
    {
     "name": "stderr",
     "output_type": "stream",
     "text": [
      "/Users/Alex_1/anaconda3/lib/python3.11/site-packages/sklearn/neural_network/_multilayer_perceptron.py:1625: DataConversionWarning: A column-vector y was passed when a 1d array was expected. Please change the shape of y to (n_samples, ), for example using ravel().\n",
      "  y = column_or_1d(y, warn=True)\n",
      "/Users/Alex_1/anaconda3/lib/python3.11/site-packages/sklearn/neural_network/_multilayer_perceptron.py:546: ConvergenceWarning: lbfgs failed to converge (status=1):\n",
      "STOP: TOTAL NO. of ITERATIONS REACHED LIMIT.\n",
      "\n",
      "Increase the number of iterations (max_iter) or scale the data as shown in:\n",
      "    https://scikit-learn.org/stable/modules/preprocessing.html\n",
      "  self.n_iter_ = _check_optimize_result(\"lbfgs\", opt_res, self.max_iter)\n"
     ]
    },
    {
     "data": {
      "text/plain": [
       "0.8173912305966031"
      ]
     },
     "execution_count": 23,
     "metadata": {},
     "output_type": "execute_result"
    }
   ],
   "source": [
    "neurual = MLPRegressor(hidden_layer_sizes = (30,30,30,30,30), activation = \"relu\", solver = \"lbfgs\").fit(X_train, y_train)\n",
    "neurual.score(X_test, y_test)"
   ]
  },
  {
   "cell_type": "markdown",
   "id": "852a6103",
   "metadata": {},
   "source": [
    "Find out what `MLPRegressor` did, i.e., what parameters were chosen by the code?"
   ]
  },
  {
   "cell_type": "code",
   "execution_count": null,
   "id": "db4f13b7",
   "metadata": {},
   "outputs": [],
   "source": []
  },
  {
   "cell_type": "markdown",
   "id": "81e87b14",
   "metadata": {},
   "source": [
    "Check the test score"
   ]
  },
  {
   "cell_type": "code",
   "execution_count": null,
   "id": "f963c49e",
   "metadata": {
    "scrolled": false
   },
   "outputs": [],
   "source": []
  },
  {
   "cell_type": "markdown",
   "id": "cff24077",
   "metadata": {},
   "source": [
    "Use model for prediction"
   ]
  },
  {
   "cell_type": "code",
   "execution_count": null,
   "id": "564ac1df",
   "metadata": {},
   "outputs": [],
   "source": []
  },
  {
   "cell_type": "markdown",
   "id": "4e3f8ade",
   "metadata": {},
   "source": [
    "Check if NN did better than linear regression by plotting test vs prediction.  If the method is perfect, all dots will fall on the line of slope 1."
   ]
  },
  {
   "cell_type": "code",
   "execution_count": null,
   "id": "00a2c4e0",
   "metadata": {
    "scrolled": true
   },
   "outputs": [],
   "source": [
    "fig, (ax1, ax2) = plt.subplots(1, 2, figsize=(20,10))\n",
    "\n",
    "ax1.plot(y_test,y_pred_lin,'.')\n",
    "ax1.plot(y_test,y_test)\n",
    "ax2.plot(y_test,y_pred_mlp,'.')\n",
    "ax2.plot(y_test,y_test)\n",
    "\n",
    "plt.show()"
   ]
  },
  {
   "cell_type": "markdown",
   "id": "90513044",
   "metadata": {},
   "source": [
    "Redo the calculations but preprocess the data by scaling or normalizing"
   ]
  }
 ],
 "metadata": {
  "kernelspec": {
   "display_name": "Python 3 (ipykernel)",
   "language": "python",
   "name": "python3"
  },
  "language_info": {
   "codemirror_mode": {
    "name": "ipython",
    "version": 3
   },
   "file_extension": ".py",
   "mimetype": "text/x-python",
   "name": "python",
   "nbconvert_exporter": "python",
   "pygments_lexer": "ipython3",
   "version": "3.11.5"
  }
 },
 "nbformat": 4,
 "nbformat_minor": 5
}
